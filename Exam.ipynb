{
 "cells": [
  {
   "cell_type": "code",
   "execution_count": 12,
   "metadata": {},
   "outputs": [],
   "source": [
    "import pandas as pd\n",
    "import keras\n",
    "import numpy as np\n",
    "from sklearn.preprocessing import MinMaxScaler\n",
    "import matplotlib.pyplot as plt\n",
    "from keras.models import Sequential\n",
    "from keras.layers import LSTM, GRU, Dense, Conv1D\n",
    "from keras.layers import Dropout, Flatten\n",
    "from keras.callbacks import ModelCheckpoint, EarlyStopping\n",
    "import json"
   ]
  },
  {
   "cell_type": "markdown",
   "metadata": {},
   "source": [
    "# Exam\n",
    "\n",
    "This problem uses the files named “salesData.csv” posted on Canvas under Final Exam and contains information on accumulative number of sales for a company in the past 3 years.\n",
    "You need to use 60% of the data for training, 20% for validation, and 20% (the most recent) for test. You also need to set the seed to 9001.\n",
    "\n",
    "---\n",
    "\n",
    "## Reading the Data"
   ]
  },
  {
   "cell_type": "code",
   "execution_count": 2,
   "metadata": {},
   "outputs": [],
   "source": [
    "df = pd.read_csv(\n",
    "    filepath_or_buffer=\"salesData.csv\"\n",
    ")"
   ]
  },
  {
   "cell_type": "markdown",
   "metadata": {},
   "source": [
    "## Partitioning the Data\n",
    "\n",
    "Here, we set 60% of the data for training, 20% for validation, and the last 20% for testing the data."
   ]
  },
  {
   "cell_type": "code",
   "execution_count": 3,
   "metadata": {},
   "outputs": [],
   "source": [
    "train_portion = round(df.shape[0] * 0.6)\n",
    "validation_portion = round(df.shape[0] * 0.20)\n",
    "train_data = df[0:train_portion].values\n",
    "validation_data = df[train_portion:train_portion+validation_portion].values\n",
    "test_data = df[train_portion+validation_portion:].values"
   ]
  },
  {
   "cell_type": "markdown",
   "metadata": {},
   "source": [
    "## Normalizing the Data"
   ]
  },
  {
   "cell_type": "code",
   "execution_count": 4,
   "metadata": {},
   "outputs": [],
   "source": [
    "sc = MinMaxScaler(feature_range=(0,1))\n",
    "train_data = train_data.reshape(-1,1)\n",
    "validation_data = validation_data.reshape(-1,1)\n",
    "test_data = test_data.reshape(-1,1)"
   ]
  },
  {
   "cell_type": "markdown",
   "metadata": {},
   "source": [
    "Here we use the scale factor, `sc`, for re-purposing the data to fit in a range between 0 and 1."
   ]
  },
  {
   "cell_type": "code",
   "execution_count": 5,
   "metadata": {},
   "outputs": [],
   "source": [
    "sc.fit(train_data)\n",
    "norm_train = sc.transform(train_data)\n",
    "norm_validation = sc.transform(validation_data)\n",
    "norm_test = sc.transform(test_data)"
   ]
  },
  {
   "cell_type": "markdown",
   "metadata": {},
   "source": [
    "## Creating Sequences\n",
    "\n",
    "Here we can use a function to develop sequences to train our model with."
   ]
  },
  {
   "cell_type": "code",
   "execution_count": 6,
   "metadata": {},
   "outputs": [],
   "source": [
    "def create_sequence(dataset, look_back=5, foresight=4):\n",
    "    X, Y = [], []\n",
    "    for i in range(len(dataset)-look_back-foresight):\n",
    "        observations = dataset[i:(i+look_back), 0] # Sequence of look back\n",
    "        X.append(observations)\n",
    "        Y.append(dataset[i+(look_back+foresight), 0])\n",
    "    return np.array(X), np.array(Y)"
   ]
  },
  {
   "cell_type": "code",
   "execution_count": 7,
   "metadata": {},
   "outputs": [],
   "source": [
    "norm_train_x, norm_train_y = create_sequence(norm_train)\n",
    "norm_validation_x, norm_validation_y = create_sequence(norm_validation)\n",
    "norm_test_x, norm_test_y = create_sequence(norm_test)\n",
    "norm_train_x = np.reshape(norm_train_x, (norm_train_x.shape[0],norm_train_x.shape[1],1))\n",
    "norm_validation_x = np.reshape(norm_validation_x, (norm_validation_x.shape[0],norm_validation_x.shape[1],1))\n",
    "norm_test_x = np.reshape(norm_test_x, (norm_test_x.shape[0],norm_test_x.shape[1],1))"
   ]
  },
  {
   "cell_type": "markdown",
   "metadata": {},
   "source": [
    "## Developing a Model\n",
    "\n",
    "We can use a function in order to build and compile the model used for this problem. This will make this process easier."
   ]
  },
  {
   "cell_type": "code",
   "execution_count": 8,
   "metadata": {},
   "outputs": [],
   "source": [
    "def create_model(\n",
    "    norm_train_x, \n",
    "    filter_size=32, \n",
    "    dropout=0.1, \n",
    "    recurrent_dropout=0.1, \n",
    "    lstm=True\n",
    "):\n",
    "    model = Sequential()\n",
    "    if lstm:\n",
    "        model.add(\n",
    "            LSTM(\n",
    "                filter_size, \n",
    "                input_shape=(norm_train_x.shape[1],1), \n",
    "                dropout=dropout, \n",
    "                recurrent_dropout=recurrent_dropout\n",
    "            )\n",
    "        )\n",
    "    else:\n",
    "        model.add(\n",
    "            GRU(\n",
    "                filter_size, \n",
    "                input_shape=(norm_train_x.shape[1],1), \n",
    "                dropout=dropout, \n",
    "                recurrent_dropout=recurrent_dropout\n",
    "            )\n",
    "        )\n",
    "    model.add(\n",
    "        Dense(\n",
    "            1, \n",
    "            activation=\"linear\"\n",
    "        )\n",
    "    )\n",
    "    model.compile(\n",
    "        loss=\"mae\", \n",
    "        optimizer=\"adam\",\n",
    "        metrics=[\"mean_absolute_error\"]\n",
    "    )\n",
    "    return model"
   ]
  },
  {
   "cell_type": "code",
   "execution_count": 25,
   "metadata": {},
   "outputs": [],
   "source": [
    "def create_conv_model(\n",
    "    norm_train_x, \n",
    "    filter_size=32, \n",
    "    dropout=0.1, \n",
    "    recurrent_dropout=0.1, \n",
    "    lstm=True\n",
    "):\n",
    "    model = Sequential()\n",
    "    model.add(\n",
    "        Conv1D(\n",
    "            filter_size,\n",
    "            input_shape=(norm_test_x.shape[1],1),\n",
    "            kernel_size=3,\n",
    "            padding=\"same\"\n",
    "        )\n",
    "    )\n",
    "    if lstm:\n",
    "        model.add(\n",
    "            LSTM(\n",
    "                filter_size, \n",
    "                input_shape=(norm_train_x.shape[1],1), \n",
    "                dropout=dropout, \n",
    "                recurrent_dropout=recurrent_dropout\n",
    "            )\n",
    "        )\n",
    "    else:\n",
    "        model.add(\n",
    "            GRU(\n",
    "                filter_size, \n",
    "                input_shape=(norm_train_x.shape[1],1), \n",
    "                dropout=dropout, \n",
    "                recurrent_dropout=recurrent_dropout\n",
    "            )\n",
    "        )\n",
    "    model.add(\n",
    "        Dense(\n",
    "            1, \n",
    "            activation=\"linear\"\n",
    "        )\n",
    "    )\n",
    "    model.compile(\n",
    "        loss=\"mae\", \n",
    "        optimizer=\"adam\",\n",
    "        metrics=[\"mean_absolute_error\"]\n",
    "    )\n",
    "    return model"
   ]
  },
  {
   "cell_type": "markdown",
   "metadata": {},
   "source": [
    "## Training the Model"
   ]
  },
  {
   "cell_type": "code",
   "execution_count": 10,
   "metadata": {
    "scrolled": false
   },
   "outputs": [
    {
     "name": "stdout",
     "output_type": "stream",
     "text": [
      "tyler\n",
      "tyler\n",
      "tyler\n",
      "tyler\n",
      "tyler\n",
      "tyler\n",
      "tyler\n",
      "tyler\n",
      "tyler\n",
      "tyler\n",
      "tyler\n",
      "tyler\n",
      "tyler\n",
      "tyler\n",
      "tyler\n",
      "tyler\n"
     ]
    }
   ],
   "source": [
    "models = []\n",
    "for lstm in [True, False]:\n",
    "    for filter_size in [32, 64]:\n",
    "\n",
    "        for dropout in [0.1, 0.3, 0.6, 0.9]:\n",
    "            print(\"tyler\")\n",
    "            for recurrent_dropout in [0.1, 0.3, 0.6, 0.9]:\n",
    "                model = create_model(\n",
    "                    norm_train_x, \n",
    "                    filter_size=filter_size, \n",
    "                    dropout=dropout, \n",
    "                    recurrent_dropout=recurrent_dropout, \n",
    "                    lstm=lstm\n",
    "                )\n",
    "                conv_model = create_conv_model(\n",
    "                    norm_train_x, \n",
    "                    filter_size=filter_size, \n",
    "                    dropout=dropout, \n",
    "                    recurrent_dropout=recurrent_dropout, \n",
    "                    lstm=lstm\n",
    "                )\n",
    "                history = model.fit(\n",
    "                    norm_train_x, \n",
    "                    norm_train_y,\n",
    "                    validation_data=(\n",
    "                        norm_validation_x,\n",
    "                        norm_validation_y\n",
    "                    ),\n",
    "                    epochs=100,\n",
    "                    batch_size=64,\n",
    "                    callbacks=[],\n",
    "                    verbose=0\n",
    "                )\n",
    "                history = conv_model.fit(\n",
    "                    norm_train_x, \n",
    "                    norm_train_y,\n",
    "                    validation_data=(\n",
    "                        norm_validation_x,\n",
    "                        norm_validation_y\n",
    "                    ),\n",
    "                    epochs=100,\n",
    "                    batch_size=64,\n",
    "                    callbacks=[],\n",
    "                    verbose=0\n",
    "                )\n",
    "                models.append({\n",
    "                    \"LSTM\":lstm,\n",
    "                    \"Filter_Size\":filter_size,\n",
    "                    \"Dropout\":dropout,\n",
    "                    \"Recurrent_dropout\":recurrent_dropout,\n",
    "                    \"Test_acc\":model.evaluate(norm_test_x, norm_test_y, verbose=0)[1],\n",
    "                    \"conv\":False\n",
    "                })\n",
    "                models.append({\n",
    "                    \"LSTM\":lstm,\n",
    "                    \"Filter_Size\":filter_size,\n",
    "                    \"Dropout\":dropout,\n",
    "                    \"Recurrent_dropout\":recurrent_dropout,\n",
    "                    \"Test_acc\":conv_model.evaluate(norm_test_x, norm_test_y, verbose=0)[1],\n",
    "                    \"conv\":True\n",
    "                })"
   ]
  },
  {
   "cell_type": "code",
   "execution_count": 13,
   "metadata": {},
   "outputs": [],
   "source": [
    "model_dict = {\"models\":models}\n",
    "with open('models.json', 'w') as fp:\n",
    "    json.dump(model_dict, fp)"
   ]
  },
  {
   "cell_type": "code",
   "execution_count": 16,
   "metadata": {},
   "outputs": [
    {
     "ename": "SyntaxError",
     "evalue": "invalid syntax (<ipython-input-16-a8f463c6c7ce>, line 3)",
     "output_type": "error",
     "traceback": [
      "\u001b[0;36m  File \u001b[0;32m\"<ipython-input-16-a8f463c6c7ce>\"\u001b[0;36m, line \u001b[0;32m3\u001b[0m\n\u001b[0;31m    best_conv = models[i for i, j in enumerate(conv_acc) if j == conv_best_acc]\u001b[0m\n\u001b[0m                           ^\u001b[0m\n\u001b[0;31mSyntaxError\u001b[0m\u001b[0;31m:\u001b[0m invalid syntax\n"
     ]
    }
   ],
   "source": [
    "conv_acc = [model[\"Test_acc\"] for model in models if model[\"conv\"] and not model[\"LSTM\"]]\n",
    "conv_best_acc = max(conv_acc)\n",
    "best_conv = models[i for i, j in enumerate(conv_acc) if j == conv_best_acc]\n",
    "# gru_best_acc = max([model[\"Test_acc\"] for model in models if not model[\"conv\"]])\n",
    "# best_gru = models[i for i, j in enumerate([model[\"Test_acc\"] for model in models if not model[\"conv\"]]) if j == gru_best_acc]"
   ]
  },
  {
   "cell_type": "code",
   "execution_count": 21,
   "metadata": {},
   "outputs": [
    {
     "data": {
      "text/plain": [
       "{'LSTM': True,\n",
       " 'Filter_Size': 32,\n",
       " 'Dropout': 0.9,\n",
       " 'Recurrent_dropout': 0.9,\n",
       " 'Test_acc': 0.19537723064422607,\n",
       " 'conv': False}"
      ]
     },
     "execution_count": 21,
     "metadata": {},
     "output_type": "execute_result"
    }
   ],
   "source": [
    "a = [model[\"Test_acc\"] for model in models if not model[\"conv\"] and not model[\"LSTM\"]]\n",
    "m = max(a)\n",
    "models[[i for i, j in enumerate(a) if j == m][0]]"
   ]
  },
  {
   "cell_type": "markdown",
   "metadata": {},
   "source": [
    "## Conclusion\n",
    "\n",
    "I based my model on the evaluate method that Keras provides in each model. The models with the highest accuracy on the test data were chosen.\n",
    "\n",
    "### GRU"
   ]
  },
  {
   "cell_type": "code",
   "execution_count": 24,
   "metadata": {},
   "outputs": [
    {
     "data": {
      "image/png": "[encoded data removed]",
      "text/plain": [
       "<Figure size 432x288 with 2 Axes>"
      ]
     },
     "metadata": {
      "needs_background": "light"
     },
     "output_type": "display_data"
    }
   ],
   "source": [
    "model = create_model(\n",
    "                    norm_train_x, \n",
    "                    filter_size=32, \n",
    "                    dropout=0.1, \n",
    "                    recurrent_dropout=0.1, \n",
    "                    lstm=True\n",
    "                )\n",
    "history = conv_model.fit(\n",
    "                    norm_train_x, \n",
    "                    norm_train_y,\n",
    "                    validation_data=(\n",
    "                        norm_validation_x,\n",
    "                        norm_validation_y\n",
    "                    ),\n",
    "                    epochs=100,\n",
    "                    batch_size=64,\n",
    "                    callbacks=[],\n",
    "                    verbose=0\n",
    "                )\n",
    "plt.subplot(1,2,1)\n",
    "plt.plot(history.history[\"loss\"], label=\"Test Loss\")\n",
    "plt.plot(history.history[\"val_loss\"], label=\"Validation Loss\")\n",
    "plt.legend()\n",
    "plt.subplot(1,2,2)\n",
    "plt.plot(history.history[\"mean_absolute_error\"], label=\"Mean Absolute Error\")\n",
    "plt.legend()\n",
    "plt.show()"
   ]
  },
  {
   "cell_type": "markdown",
   "metadata": {},
   "source": [
    "### 1D-Conv"
   ]
  },
  {
   "cell_type": "code",
   "execution_count": 26,
   "metadata": {},
   "outputs": [
    {
     "ename": "ValueError",
     "evalue": "Input 0 is incompatible with layer gru_67: expected ndim=3, found ndim=2",
     "output_type": "error",
     "traceback": [
      "\u001b[0;31m---------------------------------------------------------------------------\u001b[0m",
      "\u001b[0;31mValueError\u001b[0m                                Traceback (most recent call last)",
      "\u001b[0;32m<ipython-input-26-1ba254c33a03>\u001b[0m in \u001b[0;36m<module>\u001b[0;34m\u001b[0m\n\u001b[1;32m      4\u001b[0m                     \u001b[0mdropout\u001b[0m\u001b[0;34m=\u001b[0m\u001b[0;36m0.9\u001b[0m\u001b[0;34m,\u001b[0m\u001b[0;34m\u001b[0m\u001b[0m\n\u001b[1;32m      5\u001b[0m                     \u001b[0mrecurrent_dropout\u001b[0m\u001b[0;34m=\u001b[0m\u001b[0;36m0.9\u001b[0m\u001b[0;34m,\u001b[0m\u001b[0;34m\u001b[0m\u001b[0m\n\u001b[0;32m----> 6\u001b[0;31m                     \u001b[0mlstm\u001b[0m\u001b[0;34m=\u001b[0m\u001b[0;32mTrue\u001b[0m\u001b[0;34m\u001b[0m\u001b[0m\n\u001b[0m\u001b[1;32m      7\u001b[0m                 )\n\u001b[1;32m      8\u001b[0m \u001b[0;34m\u001b[0m\u001b[0m\n",
      "\u001b[0;32m<ipython-input-25-99e28cc3f1ab>\u001b[0m in \u001b[0;36mcreate_conv_model\u001b[0;34m(norm_train_x, filter_size, dropout, recurrent_dropout, lstm)\u001b[0m\n\u001b[1;32m     38\u001b[0m             \u001b[0minput_shape\u001b[0m\u001b[0;34m=\u001b[0m\u001b[0;34m(\u001b[0m\u001b[0mnorm_train_x\u001b[0m\u001b[0;34m.\u001b[0m\u001b[0mshape\u001b[0m\u001b[0;34m[\u001b[0m\u001b[0;36m1\u001b[0m\u001b[0;34m]\u001b[0m\u001b[0;34m,\u001b[0m\u001b[0;36m1\u001b[0m\u001b[0;34m)\u001b[0m\u001b[0;34m,\u001b[0m\u001b[0;34m\u001b[0m\u001b[0m\n\u001b[1;32m     39\u001b[0m             \u001b[0mdropout\u001b[0m\u001b[0;34m=\u001b[0m\u001b[0mdropout\u001b[0m\u001b[0;34m,\u001b[0m\u001b[0;34m\u001b[0m\u001b[0m\n\u001b[0;32m---> 40\u001b[0;31m             \u001b[0mrecurrent_dropout\u001b[0m\u001b[0;34m=\u001b[0m\u001b[0mrecurrent_dropout\u001b[0m\u001b[0;34m\u001b[0m\u001b[0m\n\u001b[0m\u001b[1;32m     41\u001b[0m         )\n\u001b[1;32m     42\u001b[0m     )\n",
      "\u001b[0;32m/opt/homebrew/Cellar/python36/3.6.2+_254.20170915/Frameworks/Python.framework/Versions/3.6/lib/python3.6/site-packages/keras/engine/sequential.py\u001b[0m in \u001b[0;36madd\u001b[0;34m(self, layer)\u001b[0m\n\u001b[1;32m    180\u001b[0m                 \u001b[0mself\u001b[0m\u001b[0;34m.\u001b[0m\u001b[0minputs\u001b[0m \u001b[0;34m=\u001b[0m \u001b[0mnetwork\u001b[0m\u001b[0;34m.\u001b[0m\u001b[0mget_source_inputs\u001b[0m\u001b[0;34m(\u001b[0m\u001b[0mself\u001b[0m\u001b[0;34m.\u001b[0m\u001b[0moutputs\u001b[0m\u001b[0;34m[\u001b[0m\u001b[0;36m0\u001b[0m\u001b[0;34m]\u001b[0m\u001b[0;34m)\u001b[0m\u001b[0;34m\u001b[0m\u001b[0m\n\u001b[1;32m    181\u001b[0m         \u001b[0;32melif\u001b[0m \u001b[0mself\u001b[0m\u001b[0;34m.\u001b[0m\u001b[0moutputs\u001b[0m\u001b[0;34m:\u001b[0m\u001b[0;34m\u001b[0m\u001b[0m\n\u001b[0;32m--> 182\u001b[0;31m             \u001b[0moutput_tensor\u001b[0m \u001b[0;34m=\u001b[0m \u001b[0mlayer\u001b[0m\u001b[0;34m(\u001b[0m\u001b[0mself\u001b[0m\u001b[0;34m.\u001b[0m\u001b[0moutputs\u001b[0m\u001b[0;34m[\u001b[0m\u001b[0;36m0\u001b[0m\u001b[0;34m]\u001b[0m\u001b[0;34m)\u001b[0m\u001b[0;34m\u001b[0m\u001b[0m\n\u001b[0m\u001b[1;32m    183\u001b[0m             \u001b[0;32mif\u001b[0m \u001b[0misinstance\u001b[0m\u001b[0;34m(\u001b[0m\u001b[0moutput_tensor\u001b[0m\u001b[0;34m,\u001b[0m \u001b[0mlist\u001b[0m\u001b[0;34m)\u001b[0m\u001b[0;34m:\u001b[0m\u001b[0;34m\u001b[0m\u001b[0m\n\u001b[1;32m    184\u001b[0m                 raise TypeError('All layers in a Sequential model '\n",
      "\u001b[0;32m/opt/homebrew/Cellar/python36/3.6.2+_254.20170915/Frameworks/Python.framework/Versions/3.6/lib/python3.6/site-packages/keras/layers/recurrent.py\u001b[0m in \u001b[0;36m__call__\u001b[0;34m(self, inputs, initial_state, constants, **kwargs)\u001b[0m\n\u001b[1;32m    531\u001b[0m \u001b[0;34m\u001b[0m\u001b[0m\n\u001b[1;32m    532\u001b[0m         \u001b[0;32mif\u001b[0m \u001b[0minitial_state\u001b[0m \u001b[0;32mis\u001b[0m \u001b[0;32mNone\u001b[0m \u001b[0;32mand\u001b[0m \u001b[0mconstants\u001b[0m \u001b[0;32mis\u001b[0m \u001b[0;32mNone\u001b[0m\u001b[0;34m:\u001b[0m\u001b[0;34m\u001b[0m\u001b[0m\n\u001b[0;32m--> 533\u001b[0;31m             \u001b[0;32mreturn\u001b[0m \u001b[0msuper\u001b[0m\u001b[0;34m(\u001b[0m\u001b[0mRNN\u001b[0m\u001b[0;34m,\u001b[0m \u001b[0mself\u001b[0m\u001b[0;34m)\u001b[0m\u001b[0;34m.\u001b[0m\u001b[0m__call__\u001b[0m\u001b[0;34m(\u001b[0m\u001b[0minputs\u001b[0m\u001b[0;34m,\u001b[0m \u001b[0;34m**\u001b[0m\u001b[0mkwargs\u001b[0m\u001b[0;34m)\u001b[0m\u001b[0;34m\u001b[0m\u001b[0m\n\u001b[0m\u001b[1;32m    534\u001b[0m \u001b[0;34m\u001b[0m\u001b[0m\n\u001b[1;32m    535\u001b[0m         \u001b[0;31m# If any of `initial_state` or `constants` are specified and are Keras\u001b[0m\u001b[0;34m\u001b[0m\u001b[0;34m\u001b[0m\u001b[0m\n",
      "\u001b[0;32m/opt/homebrew/Cellar/python36/3.6.2+_254.20170915/Frameworks/Python.framework/Versions/3.6/lib/python3.6/site-packages/keras/engine/base_layer.py\u001b[0m in \u001b[0;36m__call__\u001b[0;34m(self, inputs, **kwargs)\u001b[0m\n\u001b[1;32m    406\u001b[0m                 \u001b[0;31m# Raise exceptions in case the input is not compatible\u001b[0m\u001b[0;34m\u001b[0m\u001b[0;34m\u001b[0m\u001b[0m\n\u001b[1;32m    407\u001b[0m                 \u001b[0;31m# with the input_spec specified in the layer constructor.\u001b[0m\u001b[0;34m\u001b[0m\u001b[0;34m\u001b[0m\u001b[0m\n\u001b[0;32m--> 408\u001b[0;31m                 \u001b[0mself\u001b[0m\u001b[0;34m.\u001b[0m\u001b[0massert_input_compatibility\u001b[0m\u001b[0;34m(\u001b[0m\u001b[0minputs\u001b[0m\u001b[0;34m)\u001b[0m\u001b[0;34m\u001b[0m\u001b[0m\n\u001b[0m\u001b[1;32m    409\u001b[0m \u001b[0;34m\u001b[0m\u001b[0m\n\u001b[1;32m    410\u001b[0m                 \u001b[0;31m# Collect input shapes to build layer.\u001b[0m\u001b[0;34m\u001b[0m\u001b[0;34m\u001b[0m\u001b[0m\n",
      "\u001b[0;32m/opt/homebrew/Cellar/python36/3.6.2+_254.20170915/Frameworks/Python.framework/Versions/3.6/lib/python3.6/site-packages/keras/engine/base_layer.py\u001b[0m in \u001b[0;36massert_input_compatibility\u001b[0;34m(self, inputs)\u001b[0m\n\u001b[1;32m    303\u001b[0m                                      \u001b[0mself\u001b[0m\u001b[0;34m.\u001b[0m\u001b[0mname\u001b[0m \u001b[0;34m+\u001b[0m \u001b[0;34m': expected ndim='\u001b[0m \u001b[0;34m+\u001b[0m\u001b[0;34m\u001b[0m\u001b[0m\n\u001b[1;32m    304\u001b[0m                                      \u001b[0mstr\u001b[0m\u001b[0;34m(\u001b[0m\u001b[0mspec\u001b[0m\u001b[0;34m.\u001b[0m\u001b[0mndim\u001b[0m\u001b[0;34m)\u001b[0m \u001b[0;34m+\u001b[0m \u001b[0;34m', found ndim='\u001b[0m \u001b[0;34m+\u001b[0m\u001b[0;34m\u001b[0m\u001b[0m\n\u001b[0;32m--> 305\u001b[0;31m                                      str(K.ndim(x)))\n\u001b[0m\u001b[1;32m    306\u001b[0m             \u001b[0;32mif\u001b[0m \u001b[0mspec\u001b[0m\u001b[0;34m.\u001b[0m\u001b[0mmax_ndim\u001b[0m \u001b[0;32mis\u001b[0m \u001b[0;32mnot\u001b[0m \u001b[0;32mNone\u001b[0m\u001b[0;34m:\u001b[0m\u001b[0;34m\u001b[0m\u001b[0m\n\u001b[1;32m    307\u001b[0m                 \u001b[0mndim\u001b[0m \u001b[0;34m=\u001b[0m \u001b[0mK\u001b[0m\u001b[0;34m.\u001b[0m\u001b[0mndim\u001b[0m\u001b[0;34m(\u001b[0m\u001b[0mx\u001b[0m\u001b[0;34m)\u001b[0m\u001b[0;34m\u001b[0m\u001b[0m\n",
      "\u001b[0;31mValueError\u001b[0m: Input 0 is incompatible with layer gru_67: expected ndim=3, found ndim=2"
     ]
    }
   ],
   "source": [
    "model = create_conv_model(\n",
    "                    norm_train_x, \n",
    "                    filter_size=32, \n",
    "                    dropout=0.9, \n",
    "                    recurrent_dropout=0.9, \n",
    "                    lstm=True\n",
    "                )\n",
    "\n",
    "plt.subplot(1,2,1)\n",
    "plt.plot(history.history[\"loss\"], label=\"Test Loss\")\n",
    "plt.plot(history.history[\"val_loss\"], label=\"Validation Loss\")\n",
    "plt.legend()\n",
    "plt.subplot(1,2,2)\n",
    "plt.plot(history.history[\"mean_absolute_error\"], label=\"Mean Absolute Error\")\n",
    "plt.legend()\n",
    "plt.show()"
   ]
  },
  {
   "cell_type": "code",
   "execution_count": null,
   "metadata": {},
   "outputs": [],
   "source": []
  }
 ],
 "metadata": {
  "kernelspec": {
   "display_name": "Python 3",
   "language": "python",
   "name": "python3"
  },
  "language_info": {
   "codemirror_mode": {
    "name": "ipython",
    "version": 3
   },
   "file_extension": ".py",
   "mimetype": "text/x-python",
   "name": "python",
   "nbconvert_exporter": "python",
   "pygments_lexer": "ipython3",
   "version": "3.6.2+"
  }
 },
 "nbformat": 4,
 "nbformat_minor": 2
}
