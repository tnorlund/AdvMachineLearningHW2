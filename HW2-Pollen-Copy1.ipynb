{
 "cells": [
  {
   "cell_type": "code",
   "execution_count": 1,
   "metadata": {},
   "outputs": [
    {
     "name": "stderr",
     "output_type": "stream",
     "text": [
      "Using TensorFlow backend.\n"
     ]
    }
   ],
   "source": [
    "import keras\n",
    "from keras.layers import Input, Conv2D, Flatten, MaxPool2D, Dropout, Dense\n",
    "from sklearn.model_selection import train_test_split\n",
    "from keras.optimizers import RMSprop\n",
    "from keras.losses import categorical_crossentropy\n",
    "from keras.callbacks import EarlyStopping\n",
    "from keras.utils import to_categorical\n",
    "from keras.preprocessing.image import ImageDataGenerator\n",
    "import matplotlib\n",
    "import matplotlib.pyplot as plt\n",
    "from matplotlib.ticker import PercentFormatter\n",
    "from keras import models\n",
    "from keras.models import Model\n",
    "from imgaug import augmenters\n",
    "from random import randint\n",
    "import pandas as pd\n",
    "import numpy as np\n",
    "import cv2\n",
    "import time\n",
    "import glob, os \n",
    "from skimage import io, transform\n",
    "import json"
   ]
  },
  {
   "cell_type": "markdown",
   "metadata": {},
   "source": [
    "# Problem 1\n",
    "\n",
    "Choose a small (< 3,000) image dataset for classification. Include the link where you have downloaded the pictures from.\n",
    "\n",
    "---\n",
    "\n",
    "In order for this to work, you need a kaggle account. With this, you can download the data set here [here](https://www.kaggle.com/ivanfel/honey-bee-pollen).\n",
    "\n",
    "With this, we can read in the data at the path `/images`. This is where you must place the dataset after you download it."
   ]
  },
  {
   "cell_type": "code",
   "execution_count": 2,
   "metadata": {},
   "outputs": [],
   "source": [
    "path=\"images/\"\n",
    "imlist= glob.glob(os.path.join(path, '*.jpg'))"
   ]
  },
  {
   "cell_type": "markdown",
   "metadata": {},
   "source": [
    "Now, we can read all the images, and shape them correctly. The function below reads all the images and returns the array and label for each corresponding label."
   ]
  },
  {
   "cell_type": "code",
   "execution_count": 3,
   "metadata": {},
   "outputs": [],
   "source": [
    "def dataset(file_list,size=(300,180),flattened=False):\n",
    "    data = []\n",
    "    for i, file in enumerate(file_list):\n",
    "        image = io.imread(file)\n",
    "        image = transform.resize(image, size, mode='constant')\n",
    "        if flattened:\n",
    "            image = image.flatten()\n",
    "\n",
    "        data.append(image)\n",
    "\n",
    "    labels = [1 if f.split(\"/\")[-1][0] == 'P' else 0 for f in file_list]\n",
    "\n",
    "    return np.array(data), np.array(labels)\n",
    "X,Y=dataset(imlist)"
   ]
  },
  {
   "cell_type": "markdown",
   "metadata": {},
   "source": [
    "With the images loaded and labeled, we can look at the shape of the data and target of the model."
   ]
  },
  {
   "cell_type": "code",
   "execution_count": 4,
   "metadata": {},
   "outputs": [
    {
     "name": "stdout",
     "output_type": "stream",
     "text": [
      "Data:    (714, 300, 180, 3)\n",
      "Target:  (714,)\n"
     ]
    }
   ],
   "source": [
    "print('Data:   ',X.shape)\n",
    "print('Target: ',Y.shape)"
   ]
  },
  {
   "cell_type": "markdown",
   "metadata": {},
   "source": [
    "Here, we see that we have 714 images that are RGB. \n",
    "\n",
    "Now lets look at an example from the dataset."
   ]
  },
  {
   "cell_type": "code",
   "execution_count": 5,
   "metadata": {},
   "outputs": [],
   "source": [
    "fig, axes = plt.subplots(1,2)\n",
    "k=0\n",
    "plt.sca(axes[0])\n",
    "plt.imshow(X[k])\n",
    "plt.title('Has Pollen'.format(k, Y[k]))\n",
    "\n",
    "k=400\n",
    "plt.sca(axes[1])\n",
    "plt.imshow(X[k])\n",
    "plt.title('No Pollen'.format(k, Y[k]));"
   ]
  },
  {
   "cell_type": "markdown",
   "metadata": {},
   "source": [
    "*Goal*: Classify the bees that have pollen and those that do not.\n",
    "\n",
    "## 1\n",
    "\n",
    "Train a model from scratch using what little data you have without any regularization, to set a baseline for what can be achieved.\n",
    "\n",
    "---\n",
    "\n",
    "The first step in training the model is splitting the train and validation data."
   ]
  },
  {
   "cell_type": "code",
   "execution_count": 6,
   "metadata": {},
   "outputs": [],
   "source": [
    "x_train, x_test, y_train, y_test = train_test_split(\n",
    "    X, Y, test_size=0.20, random_state=18)\n",
    "\n",
    "partial_x_train, validation_x_train, partial_y_train, validation_y_train = train_test_split(\n",
    "    x_train, y_train, test_size=0.15, random_state=18)"
   ]
  },
  {
   "cell_type": "markdown",
   "metadata": {},
   "source": [
    "With this, we can compile a model composed of the convolution layers. "
   ]
  },
  {
   "cell_type": "code",
   "execution_count": 7,
   "metadata": {},
   "outputs": [
    {
     "name": "stdout",
     "output_type": "stream",
     "text": [
      "Model: \"model_1\"\n",
      "_________________________________________________________________\n",
      "Layer (type)                 Output Shape              Param #   \n",
      "=================================================================\n",
      "input_1 (InputLayer)         (None, 300, 180, 3)       0         \n",
      "_________________________________________________________________\n",
      "conv2d_1 (Conv2D)            (None, 300, 180, 64)      1792      \n",
      "_________________________________________________________________\n",
      "max_pooling2d_1 (MaxPooling2 (None, 150, 90, 64)       0         \n",
      "_________________________________________________________________\n",
      "conv2d_2 (Conv2D)            (None, 148, 88, 64)       36928     \n",
      "_________________________________________________________________\n",
      "max_pooling2d_2 (MaxPooling2 (None, 74, 44, 64)        0         \n",
      "_________________________________________________________________\n",
      "conv2d_3 (Conv2D)            (None, 72, 42, 128)       73856     \n",
      "_________________________________________________________________\n",
      "conv2d_4 (Conv2D)            (None, 70, 40, 128)       147584    \n",
      "_________________________________________________________________\n",
      "max_pooling2d_3 (MaxPooling2 (None, 35, 20, 128)       0         \n",
      "_________________________________________________________________\n",
      "flatten_1 (Flatten)          (None, 89600)             0         \n",
      "_________________________________________________________________\n",
      "dense_1 (Dense)              (None, 512)               45875712  \n",
      "_________________________________________________________________\n",
      "dense_2 (Dense)              (None, 1)                 513       \n",
      "=================================================================\n",
      "Total params: 46,136,385\n",
      "Trainable params: 46,136,385\n",
      "Non-trainable params: 0\n",
      "_________________________________________________________________\n",
      "None\n"
     ]
    }
   ],
   "source": [
    "verbose = 0\n",
    "# input\n",
    "input_layer = Input(shape=(300, 180, 3))\n",
    "\n",
    "# conv layers\n",
    "conv_layer1   = Conv2D(64, (3, 3), activation='relu', padding='same')(input_layer)\n",
    "conv_layer1   = MaxPool2D( (2, 2), padding='same')(conv_layer1)\n",
    "\n",
    "conv_layer2   = Conv2D(64, (3, 3), activation='relu')(conv_layer1)\n",
    "conv_layer2   = MaxPool2D( (2, 2), padding='same')(conv_layer2)\n",
    "\n",
    "conv_layer3   = Conv2D(128, (3, 3), activation='relu')(conv_layer2)\n",
    "conv_layer3   = Conv2D(128, (3, 3), activation='relu')(conv_layer3)\n",
    "conv_layer3   = MaxPool2D( (2, 2), padding='same')(conv_layer3)\n",
    "\n",
    "conv_layer4   = Conv2D(256, (3, 3), activation='relu')(conv_layer3)\n",
    "conv_layer4   = Conv2D(256, (3, 3), activation='relu')(conv_layer4)\n",
    "conv_layer4   = MaxPool2D( (2, 2), padding='same')(conv_layer4)\n",
    "\n",
    "# flatten and dense layers\n",
    "flatten_layer = Flatten()(conv_layer3)\n",
    "dense_layer   = Dense(512, activation='relu')(flatten_layer)\n",
    "\n",
    "# output\n",
    "output_layer  = Dense(1, activation='sigmoid')(dense_layer)\n",
    "\n",
    "model_1 = Model(input_layer, output_layer)\n",
    "model_1.compile(\n",
    "    optimizer=RMSprop(lr=1e-4), \n",
    "    loss='binary_crossentropy',\n",
    "    metrics=['accuracy'])\n",
    "if verbose==1:\n",
    "    print(model_1.summary())"
   ]
  },
  {
   "cell_type": "code",
   "execution_count": 8,
   "metadata": {},
   "outputs": [
    {
     "name": "stdout",
     "output_type": "stream",
     "text": [
      "Train on 485 samples, validate on 86 samples\n",
      "Epoch 1/100\n",
      "485/485 [==============================] - 93s 193ms/step - loss: 0.6653 - acc: 0.6165 - val_loss: 0.5456 - val_acc: 0.7674\n",
      "Epoch 2/100\n",
      "485/485 [==============================] - 88s 182ms/step - loss: 0.4688 - acc: 0.8021 - val_loss: 0.4038 - val_acc: 0.8605\n",
      "Epoch 3/100\n",
      "485/485 [==============================] - 84s 172ms/step - loss: 0.3722 - acc: 0.8392 - val_loss: 0.4077 - val_acc: 0.8140\n",
      "Epoch 4/100\n",
      "485/485 [==============================] - 83s 172ms/step - loss: 0.3133 - acc: 0.8701 - val_loss: 0.3896 - val_acc: 0.8605\n",
      "Epoch 5/100\n",
      "485/485 [==============================] - 86s 176ms/step - loss: 0.2828 - acc: 0.8763 - val_loss: 0.3323 - val_acc: 0.8721\n",
      "Epoch 6/100\n",
      "485/485 [==============================] - 83s 171ms/step - loss: 0.2114 - acc: 0.9134 - val_loss: 0.3835 - val_acc: 0.8953\n",
      "Epoch 7/100\n",
      "485/485 [==============================] - 84s 172ms/step - loss: 0.2121 - acc: 0.9093 - val_loss: 0.3388 - val_acc: 0.8605\n",
      "Epoch 8/100\n",
      "485/485 [==============================] - 82s 169ms/step - loss: 0.1833 - acc: 0.9216 - val_loss: 0.4472 - val_acc: 0.8605\n",
      "Epoch 9/100\n",
      "485/485 [==============================] - 81s 167ms/step - loss: 0.1568 - acc: 0.9402 - val_loss: 0.3525 - val_acc: 0.8953\n",
      "Epoch 10/100\n",
      "485/485 [==============================] - 84s 173ms/step - loss: 0.1451 - acc: 0.9485 - val_loss: 0.3585 - val_acc: 0.8953\n",
      "Epoch 11/100\n",
      "485/485 [==============================] - 84s 173ms/step - loss: 0.1099 - acc: 0.9546 - val_loss: 0.6032 - val_acc: 0.8605\n",
      "Epoch 12/100\n",
      "485/485 [==============================] - 84s 173ms/step - loss: 0.1124 - acc: 0.9670 - val_loss: 0.4646 - val_acc: 0.8837\n",
      "Epoch 13/100\n",
      "485/485 [==============================] - 83s 172ms/step - loss: 0.0700 - acc: 0.9794 - val_loss: 0.5430 - val_acc: 0.8837\n",
      "Epoch 14/100\n",
      "485/485 [==============================] - 83s 172ms/step - loss: 0.0436 - acc: 0.9897 - val_loss: 1.7489 - val_acc: 0.7209\n",
      "Epoch 15/100\n",
      "485/485 [==============================] - 83s 172ms/step - loss: 0.0617 - acc: 0.9732 - val_loss: 0.5284 - val_acc: 0.8605\n",
      "Epoch 16/100\n",
      "485/485 [==============================] - 82s 169ms/step - loss: 0.0690 - acc: 0.9794 - val_loss: 0.5242 - val_acc: 0.8837\n",
      "Epoch 17/100\n",
      "485/485 [==============================] - 82s 169ms/step - loss: 0.0288 - acc: 0.9918 - val_loss: 0.6156 - val_acc: 0.8721\n",
      "Epoch 18/100\n",
      "485/485 [==============================] - 83s 172ms/step - loss: 0.0319 - acc: 0.9897 - val_loss: 0.5205 - val_acc: 0.8605\n",
      "Epoch 19/100\n",
      "485/485 [==============================] - 83s 170ms/step - loss: 0.0304 - acc: 0.9897 - val_loss: 0.5505 - val_acc: 0.8953\n",
      "Epoch 20/100\n",
      "485/485 [==============================] - 84s 173ms/step - loss: 0.0065 - acc: 1.0000 - val_loss: 0.7441 - val_acc: 0.8605\n",
      "Epoch 21/100\n",
      "485/485 [==============================] - 84s 174ms/step - loss: 0.0471 - acc: 0.9835 - val_loss: 0.6754 - val_acc: 0.8721\n",
      "Epoch 22/100\n",
      "485/485 [==============================] - 85s 176ms/step - loss: 0.0039 - acc: 1.0000 - val_loss: 0.7787 - val_acc: 0.8488\n",
      "Epoch 23/100\n",
      "485/485 [==============================] - 88s 181ms/step - loss: 0.0248 - acc: 0.9897 - val_loss: 0.7471 - val_acc: 0.8721\n",
      "Epoch 24/100\n",
      "485/485 [==============================] - 87s 179ms/step - loss: 0.0177 - acc: 0.9938 - val_loss: 0.7629 - val_acc: 0.8837\n",
      "Epoch 25/100\n",
      "485/485 [==============================] - 83s 171ms/step - loss: 0.0010 - acc: 1.0000 - val_loss: 0.8765 - val_acc: 0.8721\n",
      "Epoch 26/100\n",
      "485/485 [==============================] - 84s 174ms/step - loss: 9.9021e-04 - acc: 1.0000 - val_loss: 0.8572 - val_acc: 0.8605\n",
      "Epoch 27/100\n",
      "485/485 [==============================] - 82s 169ms/step - loss: 0.0578 - acc: 0.9897 - val_loss: 0.8251 - val_acc: 0.8721\n",
      "Epoch 28/100\n",
      "485/485 [==============================] - 84s 173ms/step - loss: 5.7613e-04 - acc: 1.0000 - val_loss: 0.8799 - val_acc: 0.8721\n",
      "Epoch 29/100\n",
      "485/485 [==============================] - 84s 174ms/step - loss: 0.0791 - acc: 0.9876 - val_loss: 0.9116 - val_acc: 0.8721\n",
      "Epoch 30/100\n",
      "485/485 [==============================] - 84s 174ms/step - loss: 0.0011 - acc: 1.0000 - val_loss: 0.9422 - val_acc: 0.8721\n",
      "Epoch 31/100\n",
      "485/485 [==============================] - 85s 175ms/step - loss: 2.8862e-04 - acc: 1.0000 - val_loss: 0.9388 - val_acc: 0.8721\n",
      "Epoch 32/100\n",
      "485/485 [==============================] - 83s 171ms/step - loss: 0.0293 - acc: 0.9876 - val_loss: 0.9652 - val_acc: 0.8488\n",
      "Epoch 33/100\n",
      "485/485 [==============================] - 83s 171ms/step - loss: 2.6063e-04 - acc: 1.0000 - val_loss: 1.0326 - val_acc: 0.8605\n",
      "Epoch 34/100\n",
      "485/485 [==============================] - 82s 169ms/step - loss: 1.0156e-04 - acc: 1.0000 - val_loss: 1.1011 - val_acc: 0.8605\n",
      "Epoch 35/100\n",
      "485/485 [==============================] - 83s 170ms/step - loss: 0.0401 - acc: 0.9876 - val_loss: 1.0593 - val_acc: 0.8721\n",
      "Epoch 36/100\n",
      "485/485 [==============================] - 84s 174ms/step - loss: 2.2694e-04 - acc: 1.0000 - val_loss: 0.9437 - val_acc: 0.8721\n",
      "Epoch 37/100\n",
      "485/485 [==============================] - 82s 169ms/step - loss: 9.8398e-05 - acc: 1.0000 - val_loss: 1.0066 - val_acc: 0.8605\n",
      "Epoch 38/100\n",
      "485/485 [==============================] - 84s 173ms/step - loss: 3.8823e-05 - acc: 1.0000 - val_loss: 1.1048 - val_acc: 0.8488\n",
      "Epoch 39/100\n",
      "485/485 [==============================] - 84s 172ms/step - loss: 0.0309 - acc: 0.9918 - val_loss: 1.0203 - val_acc: 0.8605\n",
      "Epoch 40/100\n",
      "485/485 [==============================] - 83s 171ms/step - loss: 5.7771e-05 - acc: 1.0000 - val_loss: 1.0707 - val_acc: 0.8605\n",
      "Epoch 41/100\n",
      "485/485 [==============================] - 82s 169ms/step - loss: 3.4180e-05 - acc: 1.0000 - val_loss: 1.1040 - val_acc: 0.8605\n",
      "Epoch 42/100\n",
      "485/485 [==============================] - 84s 173ms/step - loss: 2.3768e-05 - acc: 1.0000 - val_loss: 1.0585 - val_acc: 0.8605\n",
      "Epoch 43/100\n",
      "485/485 [==============================] - 84s 172ms/step - loss: 4.7483e-05 - acc: 1.0000 - val_loss: 1.8837 - val_acc: 0.8140\n",
      "Epoch 44/100\n",
      "485/485 [==============================] - 83s 171ms/step - loss: 0.0520 - acc: 0.9897 - val_loss: 1.2576 - val_acc: 0.8372\n",
      "Epoch 45/100\n",
      "485/485 [==============================] - 82s 169ms/step - loss: 2.5919e-05 - acc: 1.0000 - val_loss: 1.2131 - val_acc: 0.8372\n",
      "Epoch 46/100\n",
      "485/485 [==============================] - 82s 169ms/step - loss: 1.4621e-05 - acc: 1.0000 - val_loss: 1.2417 - val_acc: 0.8372\n",
      "Epoch 47/100\n",
      "485/485 [==============================] - 83s 171ms/step - loss: 7.5651e-06 - acc: 1.0000 - val_loss: 1.2719 - val_acc: 0.8488\n",
      "Epoch 48/100\n",
      "485/485 [==============================] - 83s 171ms/step - loss: 0.0629 - acc: 0.9897 - val_loss: 1.0729 - val_acc: 0.8721\n",
      "Epoch 49/100\n",
      "485/485 [==============================] - 83s 171ms/step - loss: 0.0022 - acc: 0.9979 - val_loss: 1.1414 - val_acc: 0.8605\n",
      "Epoch 50/100\n",
      "485/485 [==============================] - 83s 170ms/step - loss: 2.5377e-05 - acc: 1.0000 - val_loss: 1.1729 - val_acc: 0.8605\n",
      "Epoch 51/100\n",
      "485/485 [==============================] - 84s 174ms/step - loss: 8.8427e-06 - acc: 1.0000 - val_loss: 1.2134 - val_acc: 0.8605\n",
      "Epoch 52/100\n",
      "485/485 [==============================] - 81s 168ms/step - loss: 4.1414e-06 - acc: 1.0000 - val_loss: 1.3231 - val_acc: 0.8488\n",
      "Epoch 53/100\n",
      "485/485 [==============================] - 81s 166ms/step - loss: 2.1683e-06 - acc: 1.0000 - val_loss: 1.3346 - val_acc: 0.8372\n",
      "Epoch 54/100\n",
      "485/485 [==============================] - 82s 169ms/step - loss: 9.8343e-07 - acc: 1.0000 - val_loss: 1.4378 - val_acc: 0.8372\n",
      "Epoch 55/100\n",
      "485/485 [==============================] - 85s 176ms/step - loss: 3.5114e-07 - acc: 1.0000 - val_loss: 1.4469 - val_acc: 0.8605\n",
      "Epoch 56/100\n",
      "485/485 [==============================] - 81s 167ms/step - loss: 0.0399 - acc: 0.9959 - val_loss: 1.5023 - val_acc: 0.8721\n",
      "Epoch 57/100\n",
      "485/485 [==============================] - 83s 171ms/step - loss: 2.3813e-05 - acc: 1.0000 - val_loss: 1.5242 - val_acc: 0.8721\n",
      "Epoch 58/100\n",
      "485/485 [==============================] - 82s 169ms/step - loss: 6.5073e-06 - acc: 1.0000 - val_loss: 1.4892 - val_acc: 0.8721\n",
      "Epoch 59/100\n",
      "485/485 [==============================] - 82s 169ms/step - loss: 2.1350e-06 - acc: 1.0000 - val_loss: 1.4807 - val_acc: 0.8721\n"
     ]
    },
    {
     "name": "stdout",
     "output_type": "stream",
     "text": [
      "Epoch 60/100\n",
      "485/485 [==============================] - 82s 170ms/step - loss: 8.2437e-07 - acc: 1.0000 - val_loss: 1.4485 - val_acc: 0.8721\n",
      "Epoch 61/100\n",
      "485/485 [==============================] - 85s 176ms/step - loss: 6.1006e-07 - acc: 1.0000 - val_loss: 1.4022 - val_acc: 0.8837\n",
      "Epoch 62/100\n",
      "485/485 [==============================] - 82s 169ms/step - loss: 2.0971e-07 - acc: 1.0000 - val_loss: 1.4260 - val_acc: 0.8721\n",
      "Epoch 63/100\n",
      "485/485 [==============================] - 83s 170ms/step - loss: 1.7414e-07 - acc: 1.0000 - val_loss: 1.4602 - val_acc: 0.8605\n",
      "Epoch 64/100\n",
      "485/485 [==============================] - 85s 175ms/step - loss: 1.2690e-07 - acc: 1.0000 - val_loss: 1.5482 - val_acc: 0.8721\n",
      "Epoch 65/100\n",
      "485/485 [==============================] - 83s 172ms/step - loss: 1.1833e-07 - acc: 1.0000 - val_loss: 1.5602 - val_acc: 0.8721\n",
      "Epoch 66/100\n",
      "485/485 [==============================] - 82s 170ms/step - loss: 1.1240e-07 - acc: 1.0000 - val_loss: 1.5476 - val_acc: 0.8605\n",
      "Epoch 67/100\n",
      "485/485 [==============================] - 81s 167ms/step - loss: 1.1189e-07 - acc: 1.0000 - val_loss: 1.5803 - val_acc: 0.8721\n",
      "Epoch 68/100\n",
      "485/485 [==============================] - 80s 166ms/step - loss: 1.1102e-07 - acc: 1.0000 - val_loss: 1.5636 - val_acc: 0.8605\n",
      "Epoch 69/100\n",
      "485/485 [==============================] - 82s 170ms/step - loss: 1.1066e-07 - acc: 1.0000 - val_loss: 1.6133 - val_acc: 0.8605\n",
      "Epoch 70/100\n",
      "485/485 [==============================] - 82s 168ms/step - loss: 1.1050e-07 - acc: 1.0000 - val_loss: 1.6103 - val_acc: 0.8605\n",
      "Epoch 71/100\n",
      "485/485 [==============================] - 82s 168ms/step - loss: 1.1015e-07 - acc: 1.0000 - val_loss: 1.5839 - val_acc: 0.8605\n",
      "Epoch 72/100\n",
      "485/485 [==============================] - 85s 175ms/step - loss: 1.1006e-07 - acc: 1.0000 - val_loss: 1.5926 - val_acc: 0.8605\n",
      "Epoch 73/100\n",
      "485/485 [==============================] - 84s 172ms/step - loss: 1.1013e-07 - acc: 1.0000 - val_loss: 1.5703 - val_acc: 0.8605\n",
      "Epoch 74/100\n",
      "485/485 [==============================] - 82s 169ms/step - loss: 1.1013e-07 - acc: 1.0000 - val_loss: 1.6149 - val_acc: 0.8605\n",
      "Epoch 75/100\n",
      "485/485 [==============================] - 86s 178ms/step - loss: 1.1006e-07 - acc: 1.0000 - val_loss: 1.6218 - val_acc: 0.8605\n",
      "Epoch 76/100\n",
      "485/485 [==============================] - 84s 174ms/step - loss: 1.1010e-07 - acc: 1.0000 - val_loss: 1.6062 - val_acc: 0.8605\n",
      "Epoch 77/100\n",
      "485/485 [==============================] - 84s 173ms/step - loss: 1.1006e-07 - acc: 1.0000 - val_loss: 1.6130 - val_acc: 0.8605\n",
      "Epoch 78/100\n",
      "485/485 [==============================] - 83s 172ms/step - loss: 1.1008e-07 - acc: 1.0000 - val_loss: 1.6315 - val_acc: 0.8605\n",
      "Epoch 79/100\n",
      "485/485 [==============================] - 82s 170ms/step - loss: 1.1006e-07 - acc: 1.0000 - val_loss: 1.6371 - val_acc: 0.8605\n",
      "Epoch 80/100\n",
      "485/485 [==============================] - 82s 169ms/step - loss: 1.1011e-07 - acc: 1.0000 - val_loss: 1.6154 - val_acc: 0.8605\n",
      "Epoch 81/100\n",
      "485/485 [==============================] - 81s 167ms/step - loss: 1.1009e-07 - acc: 1.0000 - val_loss: 1.6212 - val_acc: 0.8605\n",
      "Epoch 82/100\n",
      "485/485 [==============================] - 81s 168ms/step - loss: 1.1006e-07 - acc: 1.0000 - val_loss: 1.6293 - val_acc: 0.8605\n",
      "Epoch 83/100\n",
      "485/485 [==============================] - 83s 170ms/step - loss: 1.1006e-07 - acc: 1.0000 - val_loss: 1.6293 - val_acc: 0.8605\n",
      "Epoch 84/100\n",
      "485/485 [==============================] - 84s 173ms/step - loss: 1.1006e-07 - acc: 1.0000 - val_loss: 1.6293 - val_acc: 0.8605\n",
      "Epoch 85/100\n",
      "485/485 [==============================] - 82s 169ms/step - loss: 1.1006e-07 - acc: 1.0000 - val_loss: 1.6293 - val_acc: 0.8605\n",
      "Epoch 86/100\n",
      "485/485 [==============================] - 82s 170ms/step - loss: 1.1006e-07 - acc: 1.0000 - val_loss: 1.6293 - val_acc: 0.8605\n",
      "Epoch 87/100\n",
      "485/485 [==============================] - 82s 170ms/step - loss: 1.1006e-07 - acc: 1.0000 - val_loss: 1.6293 - val_acc: 0.8605\n",
      "Epoch 88/100\n",
      "485/485 [==============================] - 83s 170ms/step - loss: 1.1006e-07 - acc: 1.0000 - val_loss: 1.6293 - val_acc: 0.8605\n",
      "Epoch 89/100\n",
      "485/485 [==============================] - 81s 166ms/step - loss: 1.1006e-07 - acc: 1.0000 - val_loss: 1.6293 - val_acc: 0.8605\n",
      "Epoch 90/100\n",
      "485/485 [==============================] - 82s 170ms/step - loss: 1.1006e-07 - acc: 1.0000 - val_loss: 1.6293 - val_acc: 0.8605\n",
      "Epoch 91/100\n",
      "485/485 [==============================] - 83s 171ms/step - loss: 1.1006e-07 - acc: 1.0000 - val_loss: 1.6293 - val_acc: 0.8605\n",
      "Epoch 92/100\n",
      "485/485 [==============================] - 83s 172ms/step - loss: 1.1006e-07 - acc: 1.0000 - val_loss: 1.6293 - val_acc: 0.8605\n",
      "Epoch 93/100\n",
      "485/485 [==============================] - 83s 172ms/step - loss: 1.1006e-07 - acc: 1.0000 - val_loss: 1.6293 - val_acc: 0.8605\n",
      "Epoch 94/100\n",
      "485/485 [==============================] - 84s 174ms/step - loss: 1.1006e-07 - acc: 1.0000 - val_loss: 1.6293 - val_acc: 0.8605\n",
      "Epoch 95/100\n",
      "485/485 [==============================] - 84s 173ms/step - loss: 1.1006e-07 - acc: 1.0000 - val_loss: 1.6293 - val_acc: 0.8605\n",
      "Epoch 96/100\n",
      "485/485 [==============================] - 83s 171ms/step - loss: 1.1006e-07 - acc: 1.0000 - val_loss: 1.6293 - val_acc: 0.8605\n",
      "Epoch 97/100\n",
      "485/485 [==============================] - 81s 167ms/step - loss: 1.1006e-07 - acc: 1.0000 - val_loss: 1.6293 - val_acc: 0.8605\n",
      "Epoch 98/100\n",
      "485/485 [==============================] - 82s 170ms/step - loss: 1.1006e-07 - acc: 1.0000 - val_loss: 1.6293 - val_acc: 0.8605\n",
      "Epoch 99/100\n",
      "485/485 [==============================] - 83s 171ms/step - loss: 1.1006e-07 - acc: 1.0000 - val_loss: 1.6293 - val_acc: 0.8605\n",
      "Epoch 100/100\n",
      "485/485 [==============================] - 84s 173ms/step - loss: 1.1006e-07 - acc: 1.0000 - val_loss: 1.6293 - val_acc: 0.8605\n"
     ]
    }
   ],
   "source": [
    "epochs = 100\n",
    "batch_size = 15\n",
    "history_1 = model_1.fit(\n",
    "    partial_x_train, \n",
    "    partial_y_train,\n",
    "    validation_data=(validation_x_train, validation_y_train),\n",
    "    epochs=epochs, \n",
    "    batch_size=batch_size, \n",
    "    verbose=verbose\n",
    ")"
   ]
  },
  {
   "cell_type": "code",
   "execution_count": 21,
   "metadata": {},
   "outputs": [],
   "source": [
    "model_1.save_weights(\"part1-1.h5\")\n",
    "with open(\"history_1.json\", \"w\") as fp:\n",
    "    json.dump(history_1.history, fp)"
   ]
  },
  {
   "cell_type": "code",
   "execution_count": 2,
   "metadata": {},
   "outputs": [],
   "source": [
    "with open(\"history_1.json\") as fp:\n",
    "    history = json.load(fp)\n"
   ]
  },
  {
   "cell_type": "code",
   "execution_count": 3,
   "metadata": {},
   "outputs": [
    {
     "data": {
      "image/png": "[encoded data removed]",
      "text/plain": [
       "<Figure size 432x288 with 1 Axes>"
      ]
     },
     "metadata": {
      "needs_background": "light"
     },
     "output_type": "display_data"
    },
    {
     "data": {
      "image/png": "[encoded data removed]",
      "text/plain": [
       "<Figure size 432x288 with 1 Axes>"
      ]
     },
     "metadata": {
      "needs_background": "light"
     },
     "output_type": "display_data"
    }
   ],
   "source": [
    "acc = history['acc']\n",
    "val_acc = history['val_acc']\n",
    "loss = history['loss']\n",
    "val_loss = history['val_loss']\n",
    "epochs = range(1, len(acc)+1)\n",
    "plt.plot(epochs, acc, 'bo', label='Training acc')\n",
    "plt.plot(epochs, val_acc, 'r-', label='Training acc')\n",
    "plt.legend()\n",
    "plt.title('Training and Validation Acc')\n",
    "plt.figure()\n",
    "\n",
    "plt.plot(epochs, loss, 'bo', label='Training loss')\n",
    "plt.plot(epochs, val_loss, 'r-', label='Training acc')\n",
    "plt.legend()\n",
    "plt.title('Training and Validation loss')\n",
    "plt.show()"
   ]
  },
  {
   "cell_type": "code",
   "execution_count": 11,
   "metadata": {},
   "outputs": [
    {
     "name": "stdout",
     "output_type": "stream",
     "text": [
      "10/10 [==============================] - 67s 7s/step\n",
      "The final test accuracy:  0.8741258978843689\n"
     ]
    }
   ],
   "source": [
    "test_loss, test_acc = model_1.evaluate(x_test, y_test, steps=10)\n",
    "print('The final test accuracy: ',test_acc)"
   ]
  },
  {
   "cell_type": "markdown",
   "metadata": {},
   "source": [
    "## 2\n",
    "\n",
    "Use data augmentation to generate more training data from your existing training samples. Also add a Dropout layer to your model, right before the densely connected classifier."
   ]
  },
  {
   "cell_type": "code",
   "execution_count": 12,
   "metadata": {},
   "outputs": [
    {
     "name": "stdout",
     "output_type": "stream",
     "text": [
      "Model: \"model_2\"\n",
      "_________________________________________________________________\n",
      "Layer (type)                 Output Shape              Param #   \n",
      "=================================================================\n",
      "input_2 (InputLayer)         (None, 300, 180, 3)       0         \n",
      "_________________________________________________________________\n",
      "conv2d_7 (Conv2D)            (None, 300, 180, 64)      1792      \n",
      "_________________________________________________________________\n",
      "max_pooling2d_5 (MaxPooling2 (None, 150, 90, 64)       0         \n",
      "_________________________________________________________________\n",
      "conv2d_8 (Conv2D)            (None, 148, 88, 64)       36928     \n",
      "_________________________________________________________________\n",
      "max_pooling2d_6 (MaxPooling2 (None, 74, 44, 64)        0         \n",
      "_________________________________________________________________\n",
      "conv2d_9 (Conv2D)            (None, 72, 42, 128)       73856     \n",
      "_________________________________________________________________\n",
      "conv2d_10 (Conv2D)           (None, 70, 40, 128)       147584    \n",
      "_________________________________________________________________\n",
      "max_pooling2d_7 (MaxPooling2 (None, 35, 20, 128)       0         \n",
      "_________________________________________________________________\n",
      "flatten_2 (Flatten)          (None, 89600)             0         \n",
      "_________________________________________________________________\n",
      "dropout_1 (Dropout)          (None, 89600)             0         \n",
      "_________________________________________________________________\n",
      "dense_3 (Dense)              (None, 512)               45875712  \n",
      "_________________________________________________________________\n",
      "dense_4 (Dense)              (None, 1)                 513       \n",
      "=================================================================\n",
      "Total params: 46,136,385\n",
      "Trainable params: 46,136,385\n",
      "Non-trainable params: 0\n",
      "_________________________________________________________________\n",
      "None\n"
     ]
    }
   ],
   "source": [
    "# input\n",
    "input_layer = Input(shape=(300, 180, 3))\n",
    "\n",
    "# conv layers\n",
    "conv_layer1   = Conv2D(64, (3, 3), activation='relu', padding='same')(input_layer)\n",
    "conv_layer1   = MaxPool2D( (2, 2), padding='same')(conv_layer1)\n",
    "\n",
    "conv_layer2   = Conv2D(64, (3, 3), activation='relu')(conv_layer1)\n",
    "conv_layer2   = MaxPool2D( (2, 2), padding='same')(conv_layer2)\n",
    "\n",
    "conv_layer3   = Conv2D(128, (3, 3), activation='relu')(conv_layer2)\n",
    "conv_layer3   = Conv2D(128, (3, 3), activation='relu')(conv_layer3)\n",
    "conv_layer3   = MaxPool2D( (2, 2), padding='same')(conv_layer3)\n",
    "\n",
    "conv_layer4   = Conv2D(256, (3, 3), activation='relu')(conv_layer3)\n",
    "conv_layer4   = Conv2D(256, (3, 3), activation='relu')(conv_layer4)\n",
    "conv_layer4   = MaxPool2D( (2, 2), padding='same')(conv_layer4)\n",
    "\n",
    "# flatten and dense layers\n",
    "flatten_layer = Flatten()(conv_layer3)\n",
    "flatten_layer = Dropout(0.5)(flatten_layer)\n",
    "dense_layer   = Dense(512, activation='relu')(flatten_layer)\n",
    "\n",
    "# output\n",
    "output_layer  = Dense(1, activation='sigmoid')(dense_layer)\n",
    "\n",
    "model_2 = Model(input_layer, output_layer)\n",
    "model_2.compile(\n",
    "    optimizer=RMSprop(lr=1e-4), \n",
    "    loss='binary_crossentropy',\n",
    "    metrics=['accuracy'])\n",
    "if verbose==1:\n",
    "    print(model_2.summary())"
   ]
  },
  {
   "cell_type": "code",
   "execution_count": 13,
   "metadata": {},
   "outputs": [
    {
     "ename": "TypeError",
     "evalue": "'<' not supported between instances of 'int' and 'range'",
     "output_type": "error",
     "traceback": [
      "\u001b[0;31m---------------------------------------------------------------------------\u001b[0m",
      "\u001b[0;31mTypeError\u001b[0m                                 Traceback (most recent call last)",
      "\u001b[0;32m<ipython-input-13-3dcde6f3cea2>\u001b[0m in \u001b[0;36m<module>\u001b[0;34m\u001b[0m\n\u001b[1;32m     16\u001b[0m     \u001b[0msteps_per_epoch\u001b[0m\u001b[0;34m=\u001b[0m\u001b[0mlen\u001b[0m\u001b[0;34m(\u001b[0m\u001b[0mpartial_x_train\u001b[0m\u001b[0;34m)\u001b[0m \u001b[0;34m/\u001b[0m \u001b[0mbatch_size\u001b[0m\u001b[0;34m,\u001b[0m\u001b[0;34m\u001b[0m\u001b[0m\n\u001b[1;32m     17\u001b[0m     \u001b[0mepochs\u001b[0m\u001b[0;34m=\u001b[0m\u001b[0mepochs\u001b[0m\u001b[0;34m,\u001b[0m\u001b[0;34m\u001b[0m\u001b[0m\n\u001b[0;32m---> 18\u001b[0;31m     \u001b[0mverbose\u001b[0m\u001b[0;34m=\u001b[0m\u001b[0mverbose\u001b[0m\u001b[0;34m\u001b[0m\u001b[0m\n\u001b[0m\u001b[1;32m     19\u001b[0m )\n",
      "\u001b[0;32m/opt/homebrew/Cellar/python36/3.6.2+_254.20170915/Frameworks/Python.framework/Versions/3.6/lib/python3.6/site-packages/keras/legacy/interfaces.py\u001b[0m in \u001b[0;36mwrapper\u001b[0;34m(*args, **kwargs)\u001b[0m\n\u001b[1;32m     89\u001b[0m                 warnings.warn('Update your `' + object_name + '` call to the ' +\n\u001b[1;32m     90\u001b[0m                               'Keras 2 API: ' + signature, stacklevel=2)\n\u001b[0;32m---> 91\u001b[0;31m             \u001b[0;32mreturn\u001b[0m \u001b[0mfunc\u001b[0m\u001b[0;34m(\u001b[0m\u001b[0;34m*\u001b[0m\u001b[0margs\u001b[0m\u001b[0;34m,\u001b[0m \u001b[0;34m**\u001b[0m\u001b[0mkwargs\u001b[0m\u001b[0;34m)\u001b[0m\u001b[0;34m\u001b[0m\u001b[0m\n\u001b[0m\u001b[1;32m     92\u001b[0m         \u001b[0mwrapper\u001b[0m\u001b[0;34m.\u001b[0m\u001b[0m_original_function\u001b[0m \u001b[0;34m=\u001b[0m \u001b[0mfunc\u001b[0m\u001b[0;34m\u001b[0m\u001b[0m\n\u001b[1;32m     93\u001b[0m         \u001b[0;32mreturn\u001b[0m \u001b[0mwrapper\u001b[0m\u001b[0;34m\u001b[0m\u001b[0m\n",
      "\u001b[0;32m/opt/homebrew/Cellar/python36/3.6.2+_254.20170915/Frameworks/Python.framework/Versions/3.6/lib/python3.6/site-packages/keras/engine/training.py\u001b[0m in \u001b[0;36mfit_generator\u001b[0;34m(self, generator, steps_per_epoch, epochs, verbose, callbacks, validation_data, validation_steps, validation_freq, class_weight, max_queue_size, workers, use_multiprocessing, shuffle, initial_epoch)\u001b[0m\n\u001b[1;32m   1656\u001b[0m             \u001b[0muse_multiprocessing\u001b[0m\u001b[0;34m=\u001b[0m\u001b[0muse_multiprocessing\u001b[0m\u001b[0;34m,\u001b[0m\u001b[0;34m\u001b[0m\u001b[0m\n\u001b[1;32m   1657\u001b[0m             \u001b[0mshuffle\u001b[0m\u001b[0;34m=\u001b[0m\u001b[0mshuffle\u001b[0m\u001b[0;34m,\u001b[0m\u001b[0;34m\u001b[0m\u001b[0m\n\u001b[0;32m-> 1658\u001b[0;31m             initial_epoch=initial_epoch)\n\u001b[0m\u001b[1;32m   1659\u001b[0m \u001b[0;34m\u001b[0m\u001b[0m\n\u001b[1;32m   1660\u001b[0m     \u001b[0;34m@\u001b[0m\u001b[0minterfaces\u001b[0m\u001b[0;34m.\u001b[0m\u001b[0mlegacy_generator_methods_support\u001b[0m\u001b[0;34m\u001b[0m\u001b[0m\n",
      "\u001b[0;32m/opt/homebrew/Cellar/python36/3.6.2+_254.20170915/Frameworks/Python.framework/Versions/3.6/lib/python3.6/site-packages/keras/engine/training_generator.py\u001b[0m in \u001b[0;36mfit_generator\u001b[0;34m(model, generator, steps_per_epoch, epochs, verbose, callbacks, validation_data, validation_steps, validation_freq, class_weight, max_queue_size, workers, use_multiprocessing, shuffle, initial_epoch)\u001b[0m\n\u001b[1;32m    172\u001b[0m         \u001b[0;31m# Construct epoch logs.\u001b[0m\u001b[0;34m\u001b[0m\u001b[0;34m\u001b[0m\u001b[0m\n\u001b[1;32m    173\u001b[0m         \u001b[0mepoch_logs\u001b[0m \u001b[0;34m=\u001b[0m \u001b[0;34m{\u001b[0m\u001b[0;34m}\u001b[0m\u001b[0;34m\u001b[0m\u001b[0m\n\u001b[0;32m--> 174\u001b[0;31m         \u001b[0;32mwhile\u001b[0m \u001b[0mepoch\u001b[0m \u001b[0;34m<\u001b[0m \u001b[0mepochs\u001b[0m\u001b[0;34m:\u001b[0m\u001b[0;34m\u001b[0m\u001b[0m\n\u001b[0m\u001b[1;32m    175\u001b[0m             \u001b[0;32mfor\u001b[0m \u001b[0mm\u001b[0m \u001b[0;32min\u001b[0m \u001b[0mmodel\u001b[0m\u001b[0;34m.\u001b[0m\u001b[0mstateful_metric_functions\u001b[0m\u001b[0;34m:\u001b[0m\u001b[0;34m\u001b[0m\u001b[0m\n\u001b[1;32m    176\u001b[0m                 \u001b[0mm\u001b[0m\u001b[0;34m.\u001b[0m\u001b[0mreset_states\u001b[0m\u001b[0;34m(\u001b[0m\u001b[0;34m)\u001b[0m\u001b[0;34m\u001b[0m\u001b[0m\n",
      "\u001b[0;31mTypeError\u001b[0m: '<' not supported between instances of 'int' and 'range'"
     ]
    }
   ],
   "source": [
    "datagen = ImageDataGenerator(\n",
    "    rotation_range=40,\n",
    "    width_shift_range=0.2,\n",
    "    height_shift_range=0.2,\n",
    "    shear_range=0.2,\n",
    "    horizontal_flip=True,\n",
    "    fill_mode=\"nearest\"\n",
    ")\n",
    "datagen.fit(partial_x_train)\n",
    "history_2 = model_2.fit_generator(\n",
    "    datagen.flow(\n",
    "        partial_x_train, \n",
    "        partial_y_train, \n",
    "        batch_size=batch_size\n",
    "    ),\n",
    "    steps_per_epoch=len(partial_x_train) / batch_size,\n",
    "    epochs=epochs,\n",
    "    verbose=verbose\n",
    ")"
   ]
  },
  {
   "cell_type": "code",
   "execution_count": null,
   "metadata": {},
   "outputs": [],
   "source": [
    "model_2.save_weights(\"part1-2.h5\")"
   ]
  },
  {
   "cell_type": "code",
   "execution_count": null,
   "metadata": {
    "scrolled": true
   },
   "outputs": [],
   "source": [
    "acc = history_2.history['acc']\n",
    "val_acc = history_2.history['val_acc']\n",
    "loss = history_2.history['loss']\n",
    "val_loss = history_2.history['val_loss']\n",
    "epochs = range(1, len(acc)+1)\n",
    "plt.plot(epochs, acc, 'bo', label='Training acc')\n",
    "plt.plot(epochs, val_acc, 'r-', label='Training acc')\n",
    "plt.legend()\n",
    "plt.title('Training and Validation Acc')\n",
    "plt.figure()\n",
    "\n",
    "plt.plot(epochs, loss, 'bo', label='Training loss')\n",
    "plt.plot(epochs, val_loss, 'r-', label='Training acc')\n",
    "plt.legend()\n",
    "plt.title('Training and Validation loss')\n",
    "plt.show()"
   ]
  },
  {
   "cell_type": "code",
   "execution_count": null,
   "metadata": {},
   "outputs": [],
   "source": [
    "test_loss, test_acc = model_2.evaluate(x_test, y_test, steps=10)\n",
    "print('The final test accuracy: ',test_acc)"
   ]
  },
  {
   "cell_type": "markdown",
   "metadata": {},
   "source": [
    "## Problem 2\n",
    "\n",
    "For this problem you use the data in “admData.csv” on Canvas. This file contains the accumulative number of admitted students to a certain program with 5 annual start dates.\n",
    "\n",
    "The data has seasonal behavior: the accumulative number of admissions is monotonically increasing during the interval between 2 start dates and then it resets once a new term starts as shown in figure 1.\n",
    "\n",
    "The objective of the problem is to predict the accumulative number of admissions 7, 14, 21, 28, 35, 42, 49, 56, 63, and 70 days from the current date.\n",
    "\n",
    "![Figure 1](Figure1.png)\n",
    "\n",
    "i.e. on any given day, you need to forecast what the accumulative number of admissions will be in 1 week, 2 weeks, ... 10 weeks from that day.\n",
    "You need to use 70% of the data for training, 15% for validation, and 15% (the most recent) for test.\n",
    "\n",
    "## 1\n",
    "\n",
    "Create a recurrent neural network model. Explore both GRU and LSTM layers.\n",
    "\n",
    "---"
   ]
  },
  {
   "cell_type": "code",
   "execution_count": null,
   "metadata": {},
   "outputs": [],
   "source": [
    "df = pd.read_csv(\n",
    "    filepath_or_buffer=\"all_stocks_5yr.csv\"\n",
    ")"
   ]
  }
 ],
 "metadata": {
  "kernelspec": {
   "display_name": "Python 3",
   "language": "python",
   "name": "python3"
  },
  "language_info": {
   "codemirror_mode": {
    "name": "ipython",
    "version": 3
   },
   "file_extension": ".py",
   "mimetype": "text/x-python",
   "name": "python",
   "nbconvert_exporter": "python",
   "pygments_lexer": "ipython3",
   "version": "3.6.2+"
  }
 },
 "nbformat": 4,
 "nbformat_minor": 2
}
